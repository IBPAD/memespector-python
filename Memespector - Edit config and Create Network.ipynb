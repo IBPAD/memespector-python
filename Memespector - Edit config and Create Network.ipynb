{
 "cells": [
  {
   "cell_type": "code",
   "execution_count": null,
   "metadata": {},
   "outputs": [],
   "source": [
    "import os\n",
    "path_memespector = '/Users/lucassouzaneves/Desktop/IBPAD/Loreal COVID 19/Instagram Scraper/memespector-python-master/'\n",
    "os.chdir(path_memespector)"
   ]
  },
  {
   "cell_type": "code",
   "execution_count": null,
   "metadata": {
    "scrolled": true
   },
   "outputs": [],
   "source": [
    "#!python3 -m pip install -r requirements.txt\n",
    "#!python3 -m pip install networkx==2.3"
   ]
  },
  {
   "cell_type": "code",
   "execution_count": null,
   "metadata": {},
   "outputs": [],
   "source": [
    "# Loop de alteração dos dados do 'config_sample.txt' e salvamento do 'config.txt' que vai ser utilizado pelo script\n",
    "pasta_projeto = 'loreal_coronavirus' #nome do projeto que será gerado no memespector\n",
    "arquivo_input = 'Caminho para o arquivo de metadados gerado pelo instagram-scraper em CSV'\n",
    "img_column = 'imageurl' #coluna com o link da imagem do post\n",
    "link_column = 'linkpost' #coluna com o link do post\n",
    "delimiter = '\\\\t' #separador tab do CSV\n",
    "limite = '0'\n",
    "chave_api_googlevision = 'API do Google Vision'\n",
    "\n",
    "f1 = open(\"config_sample.txt\", \"rt\")\n",
    "f2 = open(\"config.txt\", \"wt\")\n",
    "\n",
    "checkWords = ('ProjectFolder: memespector-outputs\\n',\n",
    "              'Input: /path/to/thelistcontainingtheurls.csv\\n',\n",
    "              'ImagesColumn: imageurl\\n',\n",
    "              'LinkColumn:\\n',\n",
    "              'Delimiter: ,\\n',\n",
    "              'Limit: 20\\n',\n",
    "              'ApiKey: YOUR_API_KEY_HERE\\n',\n",
    "              'Label:          no\\n'\n",
    "             )\n",
    "\n",
    "repWords = ('ProjectFolder: ' + pasta_projeto + '\\n',\n",
    "            'Input: ' + arquivo_input + '\\n',\n",
    "            'ImagesColumn: ' + img_column + '\\n',\n",
    "            'LinkColumn: ' + link_column + '\\n',\n",
    "            'Delimiter: ' + delimiter + '\\n',\n",
    "            'Limit: ' + limite + '\\n',\n",
    "            'ApiKey: ' + chave_api_googlevision + '\\n',\n",
    "            'Label:          yes\\n')\n",
    "\n",
    "for line in f1:\n",
    "    for check, rep in zip(checkWords, repWords):\n",
    "        line = line.replace(check, rep)\n",
    "    f2.write(line)\n",
    "f1.close()\n",
    "f2.close()"
   ]
  },
  {
   "cell_type": "code",
   "execution_count": null,
   "metadata": {},
   "outputs": [],
   "source": [
    "# Checar se os dados do 'config.txt' estão corretos\n",
    "with open('config.txt', 'r') as file:\n",
    "    for line in file:\n",
    "        print(line.rstrip())"
   ]
  },
  {
   "cell_type": "code",
   "execution_count": null,
   "metadata": {
    "scrolled": true
   },
   "outputs": [],
   "source": [
    "!python3 memespector.py"
   ]
  }
 ],
 "metadata": {
  "kernelspec": {
   "display_name": "Python 3",
   "language": "python",
   "name": "python3"
  },
  "language_info": {
   "codemirror_mode": {
    "name": "ipython",
    "version": 3
   },
   "file_extension": ".py",
   "mimetype": "text/x-python",
   "name": "python",
   "nbconvert_exporter": "python",
   "pygments_lexer": "ipython3",
   "version": "3.7.7"
  }
 },
 "nbformat": 4,
 "nbformat_minor": 4
}
